{
 "cells": [
  {
   "cell_type": "code",
   "execution_count": 1,
   "metadata": {},
   "outputs": [],
   "source": [
    "# This script is to translate Feidegger dataset annotation from German to English.\n",
    "# Feidegger is a multi-modal Corpus of Fashion Images and Descriptions in German.\n",
    "# git clone https://github.com/zalandoresearch/feidegger"
   ]
  },
  {
   "cell_type": "code",
   "execution_count": 2,
   "metadata": {},
   "outputs": [
    {
     "name": "stdout",
     "output_type": "stream",
     "text": [
      "Read dataset. Processed 43941\n"
     ]
    }
   ],
   "source": [
    "data = []\n",
    "import csv\n",
    "with open('feidegger/data/FEIDEGGER_release_1.0.csv') as csv_file:\n",
    "    csv_reader = csv.reader(csv_file, delimiter=',')\n",
    "    for row in csv_reader:\n",
    "        assert(len(row) == 2)\n",
    "        if len(row[1]) > 0:\n",
    "            data.append(row)\n",
    "print('Read dataset. Processed ' + str(len(data)))"
   ]
  },
  {
   "cell_type": "code",
   "execution_count": null,
   "metadata": {},
   "outputs": [],
   "source": []
  },
  {
   "cell_type": "code",
   "execution_count": 3,
   "metadata": {},
   "outputs": [
    {
     "name": "stdout",
     "output_type": "stream",
     "text": [
      "German\n"
     ]
    }
   ],
   "source": [
    "# import google translate API\n",
    "from google.cloud import translate_v3beta1 as translate\n",
    "client = translate.TranslationServiceClient()\n",
    "project_id = '1050650839547'\n",
    "location = 'global'\n",
    "parent = client.location_path(project_id, location)\n",
    "\n",
    "# test\n",
    "response = client.translate_text(\n",
    "    parent=parent,\n",
    "    contents=['deutsch'],\n",
    "    mime_type='text/plain',\n",
    "    source_language_code='de',\n",
    "    target_language_code='en')\n",
    "for translation in response.translations:\n",
    "    print(translation.translated_text)"
   ]
  },
  {
   "cell_type": "code",
   "execution_count": 4,
   "metadata": {},
   "outputs": [],
   "source": [
    "batches = [[]]\n",
    "for d in data:\n",
    "    if len(batches[-1]) < 100:\n",
    "        batches[-1].append(d)\n",
    "    else:\n",
    "        batches.append([d])"
   ]
  },
  {
   "cell_type": "code",
   "execution_count": 5,
   "metadata": {},
   "outputs": [
    {
     "name": "stderr",
     "output_type": "stream",
     "text": [
      "<>:17: SyntaxWarning: name 'client' is used prior to global declaration\n",
      "<>:17: SyntaxWarning: name 'parent' is used prior to global declaration\n",
      "<>:17: SyntaxWarning: name 'client' is used prior to global declaration\n",
      "<>:17: SyntaxWarning: name 'parent' is used prior to global declaration\n",
      "<>:17: SyntaxWarning: name 'client' is used prior to global declaration\n",
      "<>:17: SyntaxWarning: name 'parent' is used prior to global declaration\n",
      "<ipython-input-5-5a86391cf430>:17: SyntaxWarning: name 'client' is used prior to global declaration\n",
      "  global client, parent\n",
      "<ipython-input-5-5a86391cf430>:17: SyntaxWarning: name 'parent' is used prior to global declaration\n",
      "  global client, parent\n",
      "100%|██████████| 440/440 [1:43:15<00:00, 17.49s/it]  \n"
     ]
    }
   ],
   "source": [
    "from tqdm import tqdm\n",
    "import time\n",
    "translated_result = []\n",
    "for batch in tqdm(batches):\n",
    "    while True:\n",
    "        try:\n",
    "            response = client.translate_text(\n",
    "                parent=parent,\n",
    "                contents=[d[1] for d in batch],\n",
    "                mime_type='text/plain',\n",
    "                source_language_code='de',\n",
    "                target_language_code='en')\n",
    "            break\n",
    "        except Exception as ex:\n",
    "            if \"RESOURCE_EXHAUSTED Quota exceeded for quota group 'billable_default' and limit 'USER-100s'\" in ex.message:\n",
    "                time.sleep(101)\n",
    "                #global client, parent\n",
    "                #client = translate.TranslationServiceClient()\n",
    "                #parent = client.location_path(project_id, location)\n",
    "            else:\n",
    "                raise ex\n",
    "                \n",
    "    for translation in response.translations:\n",
    "        translated_result.append(translation.translated_text)"
   ]
  },
  {
   "cell_type": "code",
   "execution_count": 22,
   "metadata": {},
   "outputs": [],
   "source": [
    "with open('feidegger/data/FEIDEGGER_release_1.0.english.csv', 'w') as csv_file:\n",
    "    csv_writer = csv.writer(csv_file, delimiter=',')\n",
    "    for row, t in zip(data, translated_result):\n",
    "        csv_writer.writerow([row[0], t])"
   ]
  },
  {
   "cell_type": "code",
   "execution_count": 33,
   "metadata": {},
   "outputs": [
    {
     "data": {
      "text/html": [
       "<img src=\"https://i6.ztat.net/large/S2/92/1C/0B/AK/11/S2921C0BA-K11@14.jpg\"/>"
      ],
      "text/plain": [
       "<IPython.core.display.Image object>"
      ]
     },
     "execution_count": 33,
     "metadata": {},
     "output_type": "execute_result"
    }
   ],
   "source": [
    "from IPython.display import Image\n",
    "from IPython.core.display import HTML \n",
    "\n",
    "i = 21\n",
    "Image(url= data[i][0])"
   ]
  },
  {
   "cell_type": "code",
   "execution_count": 34,
   "metadata": {},
   "outputs": [
    {
     "name": "stdout",
     "output_type": "stream",
     "text": [
      "It is an elegant dark blue mid-length dress with. It has no sleeves. It has a round neckline at the top.\n"
     ]
    }
   ],
   "source": [
    "\n",
    "print(translated_result[i])"
   ]
  },
  {
   "cell_type": "code",
   "execution_count": null,
   "metadata": {},
   "outputs": [],
   "source": []
  },
  {
   "cell_type": "code",
   "execution_count": null,
   "metadata": {},
   "outputs": [],
   "source": []
  },
  {
   "cell_type": "code",
   "execution_count": null,
   "metadata": {},
   "outputs": [],
   "source": []
  }
 ],
 "metadata": {
  "kernelspec": {
   "display_name": "Python 3",
   "language": "python",
   "name": "python3"
  },
  "language_info": {
   "codemirror_mode": {
    "name": "ipython",
    "version": 3
   },
   "file_extension": ".py",
   "mimetype": "text/x-python",
   "name": "python",
   "nbconvert_exporter": "python",
   "pygments_lexer": "ipython3",
   "version": "3.5.3"
  }
 },
 "nbformat": 4,
 "nbformat_minor": 2
}
